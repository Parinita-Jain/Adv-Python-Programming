{
 "cells": [
  {
   "cell_type": "code",
   "execution_count": 6,
   "metadata": {
    "id": "behind-equality"
   },
   "outputs": [],
   "source": [
    "%load_ext lab_black"
   ]
  },
  {
   "cell_type": "code",
   "execution_count": 7,
   "metadata": {
    "id": "naughty-usage"
   },
   "outputs": [],
   "source": [
    "def num_gaussian_outliers(data, n):\n",
    "    \"\"\"\n",
    "    Description: A function which calculates and returns outliers lower/higher end along with the total outliers using the emperical rule of gaussian distribution\n",
    "\n",
    "    Parameters:\n",
    "    data(pd.Series): data for which the number of outliers is to be calculated\n",
    "    n(float): n times standard deviation to set threshold for outliers\n",
    "\n",
    "    returns(tuple): tuple containing 3 values - (low, high, total number of ouliers in the data)\n",
    "    \"\"\"\n",
    "    # number of outliers below/above n*std from the mean\n",
    "    low = len(data[data < (data.mean() - (n * data.std()))])\n",
    "    high = len(data[data > (data.mean() + (n * data.std()))])\n",
    "    total = low + high\n",
    "    return low, high, total"
   ]
  },
  {
   "cell_type": "code",
   "execution_count": 8,
   "metadata": {
    "id": "crucial-boston"
   },
   "outputs": [],
   "source": [
    "def num_whisker_outliers(data):\n",
    "    \"\"\"\n",
    "    Description: A function which calculates and returns outliers lower/higher end along with the total outliers using the box-whisker method.\n",
    "\n",
    "    Parameter:\n",
    "    data(pd.Series): data for which the number of outliers is to be calculated\n",
    "\n",
    "    Return(tuple): tuple containing 3 values - (low, high, total number of ouliers in the data)\n",
    "    \"\"\"\n",
    "    M_FACTOR = 1.5\n",
    "    QUART1 = 0.25\n",
    "    QUART3 = 0.75\n",
    "    IQR = data.quantile(QUART3) - data.quantile(QUART1)\n",
    "    # number of outliers below/above whiskers;(median - 1.5*IQR) and (median + 1.5*IQR)\n",
    "    low = len(data[data < data.quantile(QUART1) - (M_FACTOR * (IQR))])\n",
    "    high = len(data[data > data.quantile(QUART3) + (M_FACTOR * (IQR))])\n",
    "    total = low + high\n",
    "    return low, high, total"
   ]
  },
  {
   "cell_type": "code",
   "execution_count": 9,
   "metadata": {
    "id": "waiting-valuation"
   },
   "outputs": [],
   "source": [
    "def num_outliers(data, gaussian=True, n=3):\n",
    "    \"\"\"\n",
    "    Description: A function which calculates and returns outliers lower/higher end along with the total outliers depending upon method chosen ('whisker', 'gaussian')\n",
    "\n",
    "    Parameters:\n",
    "    data(pd.Series): data for which the number of outliers is to be calculated\n",
    "    n(float): n times standard deviation to set threshold for outliers\n",
    "\n",
    "    returns(tuple): tuple containing 3 values - (low, high, total number of ouliers in the data)\n",
    "    \"\"\"\n",
    "    return num_gaussian_outliers(data, n) if gaussian else num_whisker_outliers(data)"
   ]
  },
  {
   "cell_type": "code",
   "execution_count": null,
   "metadata": {},
   "outputs": [],
   "source": []
  },
  {
   "cell_type": "code",
   "execution_count": null,
   "metadata": {},
   "outputs": [],
   "source": []
  },
  {
   "cell_type": "code",
   "execution_count": null,
   "metadata": {},
   "outputs": [],
   "source": []
  },
  {
   "cell_type": "code",
   "execution_count": null,
   "metadata": {},
   "outputs": [],
   "source": []
  }
 ],
 "metadata": {
  "colab": {
   "name": "Writing Docstring.ipynb",
   "provenance": []
  },
  "kernelspec": {
   "display_name": "Python 3",
   "language": "python",
   "name": "python3"
  },
  "language_info": {
   "codemirror_mode": {
    "name": "ipython",
    "version": 3
   },
   "file_extension": ".py",
   "mimetype": "text/x-python",
   "name": "python",
   "nbconvert_exporter": "python",
   "pygments_lexer": "ipython3",
   "version": "3.7.4"
  }
 },
 "nbformat": 4,
 "nbformat_minor": 5
}
