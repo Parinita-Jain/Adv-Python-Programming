{
 "cells": [
  {
   "cell_type": "markdown",
   "metadata": {
    "id": "FEF0qCgvTPWF"
   },
   "source": [
    "*   itertools\n",
    "1. filterfalse()\n",
    "2. product()\n",
    "3. accumulate()"
   ]
  },
  {
   "cell_type": "markdown",
   "metadata": {
    "id": "5pZthmAtrHMj"
   },
   "source": [
    "# Itertools\n",
    "A collection of tools for handling iterators."
   ]
  },
  {
   "cell_type": "code",
   "execution_count": 7,
   "metadata": {
    "id": "_jhfawVAFfmr"
   },
   "outputs": [],
   "source": [
    "import itertools"
   ]
  },
  {
   "cell_type": "markdown",
   "metadata": {
    "id": "Lq84mH1LEkkG"
   },
   "source": [
    "### 1. filterfalse()\n",
    "Make an iterator that filters elements from iterable returning only those for which the predicate is False "
   ]
  },
  {
   "cell_type": "code",
   "execution_count": 8,
   "metadata": {
    "id": "3xP_b7NAE3YZ"
   },
   "outputs": [],
   "source": [
    "# income values for a set of people\n",
    "income = [20000, 50000, 440000, 72000, 18000]"
   ]
  },
  {
   "cell_type": "code",
   "execution_count": 9,
   "metadata": {
    "id": "g5H1bnf3EyMT"
   },
   "outputs": [],
   "source": [
    "# using for loop\n",
    "result = []\n",
    "for i in income:\n",
    "    if i >= 50000:\n",
    "        result.append(i)"
   ]
  },
  {
   "cell_type": "code",
   "execution_count": 10,
   "metadata": {
    "colab": {
     "base_uri": "https://localhost:8080/"
    },
    "id": "iZ2QUqskGFSc",
    "outputId": "45af9b8f-0e43-4600-ecb7-01fd46171584"
   },
   "outputs": [
    {
     "data": {
      "text/plain": [
       "[50000, 440000, 72000]"
      ]
     },
     "execution_count": 10,
     "metadata": {},
     "output_type": "execute_result"
    }
   ],
   "source": [
    "result"
   ]
  },
  {
   "cell_type": "code",
   "execution_count": 11,
   "metadata": {
    "colab": {
     "base_uri": "https://localhost:8080/"
    },
    "id": "4sKKsJKMEyIz",
    "outputId": "4c40ef0f-1f3d-4bea-db7d-82d85a921216"
   },
   "outputs": [
    {
     "data": {
      "text/plain": [
       "[50000, 440000, 72000]"
      ]
     },
     "execution_count": 11,
     "metadata": {},
     "output_type": "execute_result"
    }
   ],
   "source": [
    "# using itertools\n",
    "results = itertools.filterfalse(lambda x: x < 50000, income)\n",
    "list(results)"
   ]
  },
  {
   "cell_type": "markdown",
   "metadata": {
    "id": "sXUl1jI7caYW"
   },
   "source": [
    "### 2. product()\n",
    "Make an itererator that returns all possible combination of elements"
   ]
  },
  {
   "cell_type": "code",
   "execution_count": 12,
   "metadata": {},
   "outputs": [],
   "source": [
    "A = ['Jazz', 'Spurs', 'Warriors']\n",
    "a_product = list(itertools.product(A, repeat=2))"
   ]
  },
  {
   "cell_type": "code",
   "execution_count": 13,
   "metadata": {},
   "outputs": [
    {
     "data": {
      "text/plain": [
       "[('Jazz', 'Jazz'),\n",
       " ('Jazz', 'Spurs'),\n",
       " ('Jazz', 'Warriors'),\n",
       " ('Spurs', 'Jazz'),\n",
       " ('Spurs', 'Spurs'),\n",
       " ('Spurs', 'Warriors'),\n",
       " ('Warriors', 'Jazz'),\n",
       " ('Warriors', 'Spurs'),\n",
       " ('Warriors', 'Warriors')]"
      ]
     },
     "execution_count": 13,
     "metadata": {},
     "output_type": "execute_result"
    }
   ],
   "source": [
    "a_product"
   ]
  },
  {
   "cell_type": "code",
   "execution_count": 14,
   "metadata": {
    "id": "OZpaXxJLc16Q"
   },
   "outputs": [],
   "source": [
    "A = ['Jazz', 'Spurs', 'Warriors']\n",
    "B = ['Nets', 'Bucks']\n",
    "ab_product = list(itertools.product(A, B))"
   ]
  },
  {
   "cell_type": "code",
   "execution_count": 15,
   "metadata": {
    "colab": {
     "base_uri": "https://localhost:8080/"
    },
    "id": "r2z9eGQtc8Pc",
    "outputId": "1cffed80-b864-4cb4-f09c-8e6dcf1ffcde"
   },
   "outputs": [
    {
     "data": {
      "text/plain": [
       "[('Jazz', 'Nets'),\n",
       " ('Jazz', 'Bucks'),\n",
       " ('Spurs', 'Nets'),\n",
       " ('Spurs', 'Bucks'),\n",
       " ('Warriors', 'Nets'),\n",
       " ('Warriors', 'Bucks')]"
      ]
     },
     "execution_count": 15,
     "metadata": {},
     "output_type": "execute_result"
    }
   ],
   "source": [
    "ab_product"
   ]
  },
  {
   "cell_type": "markdown",
   "metadata": {
    "id": "W5cHTAtZManu"
   },
   "source": [
    "### 3. accumulate\n",
    "Make an iterator that returns accumulated sums, or accumulated results of specified function"
   ]
  },
  {
   "cell_type": "code",
   "execution_count": 16,
   "metadata": {
    "id": "7hiyFY3VtPnu"
   },
   "outputs": [],
   "source": [
    "data = [5, 2, 6, 4, 5, 9, 1]"
   ]
  },
  {
   "cell_type": "code",
   "execution_count": 17,
   "metadata": {
    "colab": {
     "base_uri": "https://localhost:8080/"
    },
    "id": "PxouBOG3-irk",
    "outputId": "f70f456b-4bb0-4a0b-f275-d4cf1cdd289b"
   },
   "outputs": [
    {
     "data": {
      "text/plain": [
       "[5, 7, 13, 17, 22, 31, 32]"
      ]
     },
     "execution_count": 17,
     "metadata": {},
     "output_type": "execute_result"
    }
   ],
   "source": [
    "# using itertools\n",
    "list(itertools.accumulate(data))"
   ]
  },
  {
   "cell_type": "code",
   "execution_count": null,
   "metadata": {},
   "outputs": [],
   "source": []
  },
  {
   "cell_type": "markdown",
   "metadata": {
    "id": "DkVzEw8OJN1w"
   },
   "source": [
    "*   functools\n",
    "1. reduce()\n",
    "2. lru_cache()\n",
    "3. partial()"
   ]
  },
  {
   "cell_type": "markdown",
   "metadata": {
    "id": "TWghRCrqNMjp"
   },
   "source": [
    "# functools"
   ]
  },
  {
   "cell_type": "code",
   "execution_count": 18,
   "metadata": {
    "id": "4kXvRSBjObra"
   },
   "outputs": [],
   "source": [
    "import functools"
   ]
  },
  {
   "cell_type": "markdown",
   "metadata": {
    "id": "H9kirAEyOk-i"
   },
   "source": [
    "### 1. reduce()\n",
    "Applying a two argument function (from left to right) to the first two items of the iterable object. "
   ]
  },
  {
   "cell_type": "code",
   "execution_count": 19,
   "metadata": {
    "id": "Tf7zPPaKOxrS"
   },
   "outputs": [],
   "source": [
    "amount = [1100, 2450, 1330, 900]"
   ]
  },
  {
   "cell_type": "code",
   "execution_count": 20,
   "metadata": {
    "colab": {
     "base_uri": "https://localhost:8080/"
    },
    "id": "pLqgndPJOpI-",
    "outputId": "fdf42d87-71e0-4fe0-9171-f76d093a8f95"
   },
   "outputs": [
    {
     "data": {
      "text/plain": [
       "5780"
      ]
     },
     "execution_count": 20,
     "metadata": {},
     "output_type": "execute_result"
    }
   ],
   "source": [
    "# syntax --> reduce(function, iterable)\n",
    "\n",
    "functools.reduce(lambda a, b: a + b, amount)"
   ]
  },
  {
   "cell_type": "markdown",
   "metadata": {
    "id": "02J7DVwNPSG3"
   },
   "source": [
    "You can insert any function here."
   ]
  },
  {
   "cell_type": "code",
   "execution_count": 21,
   "metadata": {
    "id": "B-47ecg6jSb6"
   },
   "outputs": [],
   "source": [
    "def calculate_prod(x, y):\n",
    "    return x * y"
   ]
  },
  {
   "cell_type": "code",
   "execution_count": 22,
   "metadata": {
    "colab": {
     "base_uri": "https://localhost:8080/"
    },
    "id": "LttX2W8Uht3Y",
    "outputId": "c137aa1a-6eb5-47ab-f89f-2840b37b0863"
   },
   "outputs": [
    {
     "data": {
      "text/plain": [
       "3225915000000"
      ]
     },
     "execution_count": 22,
     "metadata": {},
     "output_type": "execute_result"
    }
   ],
   "source": [
    "functools.reduce(calculate_prod, amount)"
   ]
  },
  {
   "cell_type": "code",
   "execution_count": 23,
   "metadata": {
    "id": "xnd7DVI5PYGd"
   },
   "outputs": [],
   "source": [
    "data = [\"Python\", \"Advanced\", \"Programming\"]"
   ]
  },
  {
   "cell_type": "code",
   "execution_count": 24,
   "metadata": {
    "colab": {
     "base_uri": "https://localhost:8080/",
     "height": 35
    },
    "id": "r-uxmKaGQKYC",
    "outputId": "e6b0db85-b52e-475e-b5e1-0696f744ef31"
   },
   "outputs": [
    {
     "data": {
      "text/plain": [
       "'Python Advanced Programming'"
      ]
     },
     "execution_count": 24,
     "metadata": {},
     "output_type": "execute_result"
    }
   ],
   "source": [
    "functools.reduce(lambda a, b: a + \" \" + b, data)"
   ]
  },
  {
   "cell_type": "markdown",
   "metadata": {
    "id": "jB3bIXh1jhsd"
   },
   "source": [
    "Note: reduce() stores the intermediate result and only returns the final summation value. Whereas, accumulate() returns a iterator containing the intermediate results."
   ]
  },
  {
   "cell_type": "markdown",
   "metadata": {
    "id": "sHWEp7k7RKXU"
   },
   "source": [
    "### 2. lru_cache()\n",
    "Memoizing callable and returns the stored value if the function is called with the same arguments again. It can save time when an expensive or I/O bound function is periodically called with the same arguments.\n",
    "\n",
    "\n"
   ]
  },
  {
   "cell_type": "code",
   "execution_count": 25,
   "metadata": {
    "id": "s9jxRgOpQUdD"
   },
   "outputs": [],
   "source": [
    "# function without lru_cache\n",
    "def calc_uncached_factorial(n):\n",
    "    if n <= 1:\n",
    "        return 1\n",
    "    return n * calc_uncached_factorial(n - 1)"
   ]
  },
  {
   "cell_type": "code",
   "execution_count": 26,
   "metadata": {
    "colab": {
     "base_uri": "https://localhost:8080/"
    },
    "id": "XkF8oXNyWGyq",
    "outputId": "08ff66bd-0f97-4c18-95f2-c74b679888ab"
   },
   "outputs": [
    {
     "name": "stdout",
     "output_type": "stream",
     "text": [
      "1.24 µs ± 34.6 ns per loop (mean ± std. dev. of 7 runs, 1000000 loops each)\n"
     ]
    }
   ],
   "source": [
    "# evaluate the performance of the uncached function\n",
    "%timeit calc_uncached_factorial(10)"
   ]
  },
  {
   "cell_type": "code",
   "execution_count": 27,
   "metadata": {
    "id": "uTmcElBRWIUV"
   },
   "outputs": [],
   "source": [
    "# funtion with lru_cache\n",
    "@functools.lru_cache(maxsize=None)\n",
    "def calc_cached_factorial(n):\n",
    "    if n <= 1:\n",
    "        return 1\n",
    "    return n * calc_cached_factorial(n - 1)"
   ]
  },
  {
   "cell_type": "code",
   "execution_count": 28,
   "metadata": {
    "colab": {
     "base_uri": "https://localhost:8080/"
    },
    "id": "-uko0lJVWMCR",
    "outputId": "94e4b811-5e5e-482f-a6f6-febba08f59b6"
   },
   "outputs": [
    {
     "name": "stdout",
     "output_type": "stream",
     "text": [
      "81 ns ± 4.93 ns per loop (mean ± std. dev. of 7 runs, 10000000 loops each)\n"
     ]
    }
   ],
   "source": [
    "# evaluate the performance of the uncached function\n",
    "%timeit calc_cached_factorial(10)"
   ]
  },
  {
   "cell_type": "markdown",
   "metadata": {
    "id": "CmcsOtmXWxlu"
   },
   "source": [
    "NOTE: LRU cache should only be used when you want to reuse previously computed values."
   ]
  },
  {
   "cell_type": "markdown",
   "metadata": {
    "id": "FhcyPmORb2FU"
   },
   "source": [
    "### 3. partial()\n",
    "Used for partial function application which “freezes” some portion of a function’s arguments"
   ]
  },
  {
   "cell_type": "code",
   "execution_count": 29,
   "metadata": {
    "id": "TJl0yo4NeHbm"
   },
   "outputs": [],
   "source": [
    "# initial function\n",
    "def calc_total_saving(a, b, c, x):\n",
    "    return a + b + c + x"
   ]
  },
  {
   "cell_type": "code",
   "execution_count": 30,
   "metadata": {
    "id": "0i_w9SqjWSDa"
   },
   "outputs": [],
   "source": [
    "# Partial function that a,b,c fixed\n",
    "part_func = functools.partial(calc_total_saving, 30000, 250000, 400000)"
   ]
  },
  {
   "cell_type": "code",
   "execution_count": 32,
   "metadata": {
    "colab": {
     "base_uri": "https://localhost:8080/"
    },
    "id": "ZOUqTPwMev3p",
    "outputId": "94b010d1-a5d3-4655-9868-174d0ccaa759"
   },
   "outputs": [
    {
     "data": {
      "text/plain": [
       "780000"
      ]
     },
     "execution_count": 32,
     "metadata": {},
     "output_type": "execute_result"
    }
   ],
   "source": [
    "part_func(100000)"
   ]
  },
  {
   "cell_type": "code",
   "execution_count": null,
   "metadata": {},
   "outputs": [],
   "source": []
  },
  {
   "cell_type": "markdown",
   "metadata": {
    "id": "OBhe2m32e2y1"
   },
   "source": [
    "# collections\n",
    "Implements specialized container datatypes providing alternatives to general purpose built-in containers, dict, list, set, and tuple."
   ]
  },
  {
   "cell_type": "code",
   "execution_count": 33,
   "metadata": {
    "id": "6Mn-HI4UezSB"
   },
   "outputs": [],
   "source": [
    "import collections"
   ]
  },
  {
   "cell_type": "markdown",
   "metadata": {
    "id": "yaf6pA5XtPUA"
   },
   "source": [
    "### 1. defaultdict()\n",
    "A dict subclass that provides default value for keys that do not exist.\n",
    "\n"
   ]
  },
  {
   "cell_type": "code",
   "execution_count": 34,
   "metadata": {
    "id": "-0bTBFO68jyR"
   },
   "outputs": [],
   "source": [
    "# storing work ex in months\n",
    "work_exp = {\"Rachel\": 31, \"Ross\": 42, \"Joey\": 12, \"Monica\": 28}"
   ]
  },
  {
   "cell_type": "code",
   "execution_count": 35,
   "metadata": {
    "colab": {
     "base_uri": "https://localhost:8080/",
     "height": 167
    },
    "id": "rX82nCT-8uS0",
    "outputId": "9d1d538c-ad90-40c7-b28a-4013c39db863"
   },
   "outputs": [
    {
     "ename": "KeyError",
     "evalue": "'Emma'",
     "output_type": "error",
     "traceback": [
      "\u001b[0;31m---------------------------------------------------------------------------\u001b[0m",
      "\u001b[0;31mKeyError\u001b[0m                                  Traceback (most recent call last)",
      "\u001b[0;32m<ipython-input-35-f84fc75b67a6>\u001b[0m in \u001b[0;36m<module>\u001b[0;34m\u001b[0m\n\u001b[0;32m----> 1\u001b[0;31m \u001b[0mprint\u001b[0m\u001b[0;34m(\u001b[0m\u001b[0mwork_exp\u001b[0m\u001b[0;34m[\u001b[0m\u001b[0;34m'Emma'\u001b[0m\u001b[0;34m]\u001b[0m\u001b[0;34m)\u001b[0m\u001b[0;34m\u001b[0m\u001b[0;34m\u001b[0m\u001b[0m\n\u001b[0m",
      "\u001b[0;31mKeyError\u001b[0m: 'Emma'"
     ]
    }
   ],
   "source": [
    "print(work_exp['Emma'])"
   ]
  },
  {
   "cell_type": "code",
   "execution_count": 36,
   "metadata": {
    "colab": {
     "base_uri": "https://localhost:8080/"
    },
    "id": "9f8QH3fWuwod",
    "outputId": "174a4c2e-b8ce-4d18-f0a1-13e24c8c0223"
   },
   "outputs": [
    {
     "name": "stdout",
     "output_type": "stream",
     "text": [
      "0\n"
     ]
    }
   ],
   "source": [
    "# using default dict\n",
    "work_exp_defualtdict = collections.defaultdict(int, Rachel= 31, Ross= 42, Joey= 12, Monica= 28)\n",
    "\n",
    "print(work_exp_defualtdict['Emma'])"
   ]
  },
  {
   "cell_type": "code",
   "execution_count": 37,
   "metadata": {
    "colab": {
     "base_uri": "https://localhost:8080/"
    },
    "id": "OicGZiDmvWYF",
    "outputId": "7f702e26-6456-4d04-afd7-b88e6e82041a"
   },
   "outputs": [
    {
     "name": "stdout",
     "output_type": "stream",
     "text": [
      "Not present\n"
     ]
    }
   ],
   "source": [
    "work_exp_defualtdict = collections.defaultdict(\n",
    "    lambda: \"Not present\", Rachel=31, Ross=42, Joey=12, Monica=28\n",
    ")\n",
    "print(work_exp_defualtdict[\"Emma\"])"
   ]
  },
  {
   "cell_type": "markdown",
   "metadata": {
    "id": "wg4a164J98ui"
   },
   "source": [
    "### 2. Counter()\n",
    "It is a collection where elements are stored as dictionary keys and their counts are stored as dictionary values. "
   ]
  },
  {
   "cell_type": "code",
   "execution_count": 38,
   "metadata": {
    "id": "4p-UpjtA9759"
   },
   "outputs": [],
   "source": [
    "av_text = \"Analytics Vidhya is a platform to learn about Data Science, Machine Learning, Deep Learning, Data Visualisations, Business Intelligence, Big Data and more\"\n",
    "words = av_text.split()"
   ]
  },
  {
   "cell_type": "code",
   "execution_count": 39,
   "metadata": {
    "colab": {
     "base_uri": "https://localhost:8080/"
    },
    "id": "VOZVLC9e973H",
    "outputId": "d3d398eb-bde8-4506-8fca-4fbbf8597173"
   },
   "outputs": [
    {
     "data": {
      "text/plain": [
       "Counter({'Analytics': 1,\n",
       "         'Vidhya': 1,\n",
       "         'is': 1,\n",
       "         'a': 1,\n",
       "         'platform': 1,\n",
       "         'to': 1,\n",
       "         'learn': 1,\n",
       "         'about': 1,\n",
       "         'Data': 3,\n",
       "         'Science,': 1,\n",
       "         'Machine': 1,\n",
       "         'Learning,': 2,\n",
       "         'Deep': 1,\n",
       "         'Visualisations,': 1,\n",
       "         'Business': 1,\n",
       "         'Intelligence,': 1,\n",
       "         'Big': 1,\n",
       "         'and': 1,\n",
       "         'more': 1})"
      ]
     },
     "execution_count": 39,
     "metadata": {},
     "output_type": "execute_result"
    }
   ],
   "source": [
    "collections.Counter(words)"
   ]
  },
  {
   "cell_type": "code",
   "execution_count": 40,
   "metadata": {
    "colab": {
     "base_uri": "https://localhost:8080/"
    },
    "id": "essVXO-h97wp",
    "outputId": "92538e99-d0e4-4eed-e12f-2e3bf99dc89c"
   },
   "outputs": [
    {
     "data": {
      "text/plain": [
       "[('Data', 3), ('Learning,', 2), ('Analytics', 1)]"
      ]
     },
     "execution_count": 40,
     "metadata": {},
     "output_type": "execute_result"
    }
   ],
   "source": [
    "collections.Counter(words).most_common(3)"
   ]
  },
  {
   "cell_type": "markdown",
   "metadata": {
    "id": "Sxzzk4LO_adv"
   },
   "source": [
    "### 3. deque()"
   ]
  },
  {
   "cell_type": "code",
   "execution_count": 41,
   "metadata": {
    "colab": {
     "base_uri": "https://localhost:8080/"
    },
    "id": "InMCjlk7_aMo",
    "outputId": "12ff67cb-f172-4d7d-c2bd-6a3d6d5f5307"
   },
   "outputs": [
    {
     "data": {
      "text/plain": [
       "deque(['Analytics',\n",
       "       'Vidhya',\n",
       "       'is',\n",
       "       'a',\n",
       "       'platform',\n",
       "       'to',\n",
       "       'learn',\n",
       "       'about',\n",
       "       'Data',\n",
       "       'Science,',\n",
       "       'Machine',\n",
       "       'Learning,',\n",
       "       'Deep',\n",
       "       'Learning,',\n",
       "       'Data',\n",
       "       'Visualisations,',\n",
       "       'Business',\n",
       "       'Intelligence,',\n",
       "       'Big',\n",
       "       'Data',\n",
       "       'and',\n",
       "       'more'])"
      ]
     },
     "execution_count": 41,
     "metadata": {},
     "output_type": "execute_result"
    }
   ],
   "source": [
    "word_queue = collections.deque(words)\n",
    "word_queue"
   ]
  },
  {
   "cell_type": "code",
   "execution_count": 42,
   "metadata": {
    "colab": {
     "base_uri": "https://localhost:8080/",
     "height": 35
    },
    "id": "RfzvM84tSfns",
    "outputId": "d7ce1267-f1a2-40f4-9837-fa8bf72d58db"
   },
   "outputs": [
    {
     "data": {
      "text/plain": [
       "'Analytics'"
      ]
     },
     "execution_count": 42,
     "metadata": {},
     "output_type": "execute_result"
    }
   ],
   "source": [
    "word_queue.popleft()"
   ]
  },
  {
   "cell_type": "code",
   "execution_count": 43,
   "metadata": {
    "colab": {
     "base_uri": "https://localhost:8080/",
     "height": 35
    },
    "id": "kZowUIZL_aHX",
    "outputId": "9f0a0a91-fe36-4ae9-9f4b-923e80974cab"
   },
   "outputs": [
    {
     "data": {
      "text/plain": [
       "'more'"
      ]
     },
     "execution_count": 43,
     "metadata": {},
     "output_type": "execute_result"
    }
   ],
   "source": [
    "word_queue.pop()"
   ]
  },
  {
   "cell_type": "code",
   "execution_count": 44,
   "metadata": {
    "colab": {
     "base_uri": "https://localhost:8080/"
    },
    "id": "MbNSP2UhD1fC",
    "outputId": "6242c35a-e5b7-4276-b14f-ec375bac7f36"
   },
   "outputs": [
    {
     "data": {
      "text/plain": [
       "deque(['Vidhya',\n",
       "       'is',\n",
       "       'a',\n",
       "       'platform',\n",
       "       'to',\n",
       "       'learn',\n",
       "       'about',\n",
       "       'Data',\n",
       "       'Science,',\n",
       "       'Machine',\n",
       "       'Learning,',\n",
       "       'Deep',\n",
       "       'Learning,',\n",
       "       'Data',\n",
       "       'Visualisations,',\n",
       "       'Business',\n",
       "       'Intelligence,',\n",
       "       'Big',\n",
       "       'Data',\n",
       "       'and'])"
      ]
     },
     "execution_count": 44,
     "metadata": {},
     "output_type": "execute_result"
    }
   ],
   "source": [
    "word_queue"
   ]
  },
  {
   "cell_type": "code",
   "execution_count": null,
   "metadata": {},
   "outputs": [],
   "source": []
  },
  {
   "cell_type": "code",
   "execution_count": null,
   "metadata": {},
   "outputs": [],
   "source": []
  },
  {
   "cell_type": "markdown",
   "metadata": {
    "id": "xfTWFy4cTFJb"
   },
   "source": [
    "# pickle\n",
    "The pickle module implements binary protocols for serializing and de-serializing a Python object structure. "
   ]
  },
  {
   "cell_type": "code",
   "execution_count": 45,
   "metadata": {
    "id": "XXIuXMYCTJnw"
   },
   "outputs": [],
   "source": [
    "import pickle"
   ]
  },
  {
   "cell_type": "code",
   "execution_count": 46,
   "metadata": {
    "id": "mN6DXcibdC5b"
   },
   "outputs": [],
   "source": [
    "# our list and dictionary\n",
    "emp_names = [\"Akash\", \"Bhavish\", \"Chandra\", \"Derek\"]\n",
    "emp_ID = {\"Akash\": 1045, \"Bhavish\": 5306, \"Chandra\": 4931, \"Derek\": 5311}"
   ]
  },
  {
   "cell_type": "markdown",
   "metadata": {
    "id": "gt_s7D9_eQ4T"
   },
   "source": [
    "Example 1"
   ]
  },
  {
   "cell_type": "code",
   "execution_count": 47,
   "metadata": {
    "id": "1DwCvmxxdnMz"
   },
   "outputs": [],
   "source": [
    "# pickling\n",
    "my_file = open(\"datafile.pkl\", \"wb\")\n",
    "pickle.dump(emp_names, my_file)\n",
    "my_file.close() "
   ]
  },
  {
   "cell_type": "code",
   "execution_count": 48,
   "metadata": {
    "colab": {
     "base_uri": "https://localhost:8080/"
    },
    "id": "PpxjstcsTJhz",
    "outputId": "ac34bdf2-0044-4001-d77a-60ddfe6dadd6"
   },
   "outputs": [
    {
     "name": "stdout",
     "output_type": "stream",
     "text": [
      "['Akash', 'Bhavish', 'Chandra', 'Derek']\n"
     ]
    }
   ],
   "source": [
    "# unpickling\n",
    "my_file = open(\"datafile.pkl\", \"rb\")\n",
    "emp = pickle.load(my_file) \n",
    "print(emp)  "
   ]
  },
  {
   "cell_type": "markdown",
   "metadata": {
    "id": "x3kRphO4eSYA"
   },
   "source": [
    "Example 2"
   ]
  },
  {
   "cell_type": "code",
   "execution_count": 49,
   "metadata": {
    "id": "BE8-AXDRTJev"
   },
   "outputs": [],
   "source": [
    "my_file_2 = open(\"emp_ID.pkl\", \"wb\")   \n",
    "pickle.dump(emp_ID, my_file_2)  \n",
    "my_file_2.close()  "
   ]
  },
  {
   "cell_type": "code",
   "execution_count": 50,
   "metadata": {
    "colab": {
     "base_uri": "https://localhost:8080/"
    },
    "id": "_x8bQpQJTJdW",
    "outputId": "8fafbdff-f9d2-4555-f97a-4ea48b0f3055"
   },
   "outputs": [
    {
     "name": "stdout",
     "output_type": "stream",
     "text": [
      "{'Akash': 1045, 'Bhavish': 5306, 'Chandra': 4931, 'Derek': 5311}\n"
     ]
    }
   ],
   "source": [
    "my_file_2 = open(\"emp_ID.pkl\", \"rb\")\n",
    "EmpID = pickle.load(my_file_2)  \n",
    "print(EmpID)  "
   ]
  },
  {
   "cell_type": "code",
   "execution_count": null,
   "metadata": {
    "id": "WQG5rZinTJUp"
   },
   "outputs": [],
   "source": []
  }
 ],
 "metadata": {
  "colab": {
   "name": "Python Standard Library.ipynb",
   "provenance": []
  },
  "kernelspec": {
   "display_name": "Python 3",
   "language": "python",
   "name": "python3"
  },
  "language_info": {
   "codemirror_mode": {
    "name": "ipython",
    "version": 3
   },
   "file_extension": ".py",
   "mimetype": "text/x-python",
   "name": "python",
   "nbconvert_exporter": "python",
   "pygments_lexer": "ipython3",
   "version": "3.7.4"
  }
 },
 "nbformat": 4,
 "nbformat_minor": 4
}
