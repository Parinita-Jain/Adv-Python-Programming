{
 "cells": [
  {
   "cell_type": "markdown",
   "metadata": {},
   "source": [
    "## Exception Handling"
   ]
  },
  {
   "cell_type": "code",
   "execution_count": null,
   "metadata": {},
   "outputs": [],
   "source": [
    "%load_ext lab_black"
   ]
  },
  {
   "cell_type": "markdown",
   "metadata": {},
   "source": [
    "## Simple try and except"
   ]
  },
  {
   "cell_type": "markdown",
   "metadata": {},
   "source": [
    "### Signalling the exception"
   ]
  },
  {
   "cell_type": "code",
   "execution_count": null,
   "metadata": {},
   "outputs": [],
   "source": [
    "def divisor():\n",
    "    \"\"\"\n",
    "    Asks for two numbers as input and prints the the quotient\n",
    "    \"\"\"\n",
    "    try:\n",
    "        a = int(input(\"Tell me a number\"))\n",
    "        b = int(input(\"Tell me another number\"))\n",
    "        print(a / b)\n",
    "        print(\"Division was successful\")\n",
    "    except:\n",
    "        print(\"Some bug appeared\")"
   ]
  },
  {
   "cell_type": "code",
   "execution_count": null,
   "metadata": {},
   "outputs": [],
   "source": [
    "divisor()  # 5,5"
   ]
  },
  {
   "cell_type": "code",
   "execution_count": null,
   "metadata": {},
   "outputs": [],
   "source": [
    "divisor()  # 5,0"
   ]
  },
  {
   "cell_type": "markdown",
   "metadata": {},
   "source": [
    "* In the above construct, if anything goes wrong, the signal is printed. But there is no specification that what kind of error or unexpected condition."
   ]
  },
  {
   "cell_type": "markdown",
   "metadata": {},
   "source": [
    "### Specifying exception type\n",
    " *  If we know what kind of error/exception is likely to occur, we can breakdown the error/exception message accordingly. This will also narrow down to which TRY block rasied the error"
   ]
  },
  {
   "cell_type": "code",
   "execution_count": null,
   "metadata": {},
   "outputs": [],
   "source": [
    "def divisor():\n",
    "    \"\"\"\n",
    "    Asks for two numbers as input and prints the the quotient\n",
    "    \"\"\"\n",
    "    try:\n",
    "        a = int(input(\"Tell me a number\"))\n",
    "        b = int(input(\"Tell me another number\"))\n",
    "    except ValueError:  # (5,a)\n",
    "        print(\"Input could not be converted to a number\")\n",
    "    try:\n",
    "        print(a / b)\n",
    "    except ZeroDivisionError:  # (5,0)\n",
    "        print(\"Can not divide by zero\")"
   ]
  },
  {
   "cell_type": "code",
   "execution_count": null,
   "metadata": {},
   "outputs": [],
   "source": [
    "divisor() # 5,\"a\""
   ]
  },
  {
   "cell_type": "code",
   "execution_count": null,
   "metadata": {},
   "outputs": [],
   "source": [
    "divisor()  # 5,0"
   ]
  },
  {
   "cell_type": "code",
   "execution_count": null,
   "metadata": {},
   "outputs": [],
   "source": [
    "divisor()  # 5,5"
   ]
  },
  {
   "cell_type": "markdown",
   "metadata": {},
   "source": [
    "### Technical Specifics of error\n",
    "* This method can be used to print the technical aspect of *what exactly* went wrong, to the user."
   ]
  },
  {
   "cell_type": "code",
   "execution_count": null,
   "metadata": {},
   "outputs": [],
   "source": [
    "def divisor():\n",
    "    \"\"\"\n",
    "    Asks for two numbers as input and prints the the quotient\n",
    "    \"\"\"\n",
    "    try:\n",
    "        a = int(input(\"Tell me a number\"))\n",
    "        b = int(input(\"Tell me another number\"))\n",
    "    except ValueError as ve:  # (5,a)\n",
    "        print(\"Input could not be converted to a number: \", ve)\n",
    "    try:\n",
    "        print(a / b)\n",
    "    except ZeroDivisionError as zde:  # (5,0)\n",
    "        print(\"Can not divide by zero: \", zde)"
   ]
  },
  {
   "cell_type": "code",
   "execution_count": null,
   "metadata": {},
   "outputs": [],
   "source": [
    "divisor()  # (5,5)"
   ]
  },
  {
   "cell_type": "code",
   "execution_count": null,
   "metadata": {},
   "outputs": [],
   "source": [
    "divisor() # (5,'a')"
   ]
  },
  {
   "cell_type": "code",
   "execution_count": null,
   "metadata": {},
   "outputs": [],
   "source": [
    "divisor()  # (5,0)"
   ]
  },
  {
   "cell_type": "markdown",
   "metadata": {},
   "source": [
    "## More useful Exception Handling"
   ]
  },
  {
   "cell_type": "markdown",
   "metadata": {},
   "source": [
    "### Asking for input until user inputs right value"
   ]
  },
  {
   "cell_type": "code",
   "execution_count": 1,
   "metadata": {},
   "outputs": [],
   "source": [
    "def persuasive_divisor():\n",
    "    \"\"\"\n",
    "    Asks for two numbers as input and prints the the quotient, persuades user until some valid input is given\n",
    "    \"\"\"\n",
    "    while True:\n",
    "        try:\n",
    "            a = int(input(\"Tell me a number\"))\n",
    "            b = int(input(\"Tell me another number\"))\n",
    "        except ValueError as ve:  # (5,a)\n",
    "            print(\"Input could not be converted to a number: \", ve)\n",
    "        try:\n",
    "            print(a / b)\n",
    "            break\n",
    "        except ZeroDivisionError as zde:  # (5,0)\n",
    "            print(\"Can not divide by zero: \", zde)\n",
    "        except UnboundLocalError as ule:\n",
    "            print(\"could not perform division because of bad inputs: \")"
   ]
  },
  {
   "cell_type": "code",
   "execution_count": 2,
   "metadata": {},
   "outputs": [
    {
     "name": "stdin",
     "output_type": "stream",
     "text": [
      "Tell me a number a\n"
     ]
    },
    {
     "name": "stdout",
     "output_type": "stream",
     "text": [
      "Input could not be converted to a number:  invalid literal for int() with base 10: 'a'\n",
      "could not perform division because of bad inputs: \n"
     ]
    },
    {
     "name": "stdin",
     "output_type": "stream",
     "text": [
      "Tell me a number 5\n",
      "Tell me another number 0\n"
     ]
    },
    {
     "name": "stdout",
     "output_type": "stream",
     "text": [
      "Can not divide by zero:  division by zero\n"
     ]
    },
    {
     "name": "stdin",
     "output_type": "stream",
     "text": [
      "Tell me a number 5\n",
      "Tell me another number 1\n"
     ]
    },
    {
     "name": "stdout",
     "output_type": "stream",
     "text": [
      "5.0\n"
     ]
    }
   ],
   "source": [
    "persuasive_divisor() "
   ]
  },
  {
   "cell_type": "markdown",
   "metadata": {},
   "source": [
    "## Circumventing unexpected condition"
   ]
  },
  {
   "cell_type": "code",
   "execution_count": 3,
   "metadata": {},
   "outputs": [],
   "source": [
    "def strange_operation(iterable):\n",
    "    \"\"\"Returns ratio of Variance to Standard Deviation multiplied to every element of iterable\n",
    "\n",
    "    iterable(pandas.Series): a series of numerical values\n",
    "\n",
    "    returns(float): pd.Series with strange operation implemented\n",
    "    \"\"\"\n",
    "    variance = iterable.var()\n",
    "    standard_deviation = iterable.std()\n",
    "    ratio = variance/standard_deviation\n",
    "    return iterable.map(lambda x: x * ratio)"
   ]
  },
  {
   "cell_type": "code",
   "execution_count": 4,
   "metadata": {},
   "outputs": [
    {
     "data": {
      "text/plain": [
       "0    1.581139\n",
       "1    3.162278\n",
       "2    4.743416\n",
       "3    6.324555\n",
       "4    7.905694\n",
       "dtype: float64"
      ]
     },
     "execution_count": 4,
     "metadata": {},
     "output_type": "execute_result"
    }
   ],
   "source": [
    "import pandas as pd\n",
    "import numpy as np\n",
    "\n",
    "strange_operation(pd.Series([1, 2, 3, 4, 5]))"
   ]
  },
  {
   "cell_type": "code",
   "execution_count": 5,
   "metadata": {},
   "outputs": [
    {
     "ename": "AttributeError",
     "evalue": "'list' object has no attribute 'var'",
     "output_type": "error",
     "traceback": [
      "\u001b[0;31m---------------------------------------------------------------------------\u001b[0m",
      "\u001b[0;31mAttributeError\u001b[0m                            Traceback (most recent call last)",
      "\u001b[0;32m<ipython-input-5-dbb900273227>\u001b[0m in \u001b[0;36m<module>\u001b[0;34m\u001b[0m\n\u001b[0;32m----> 1\u001b[0;31m \u001b[0mstrange_operation\u001b[0m\u001b[0;34m(\u001b[0m\u001b[0;34m[\u001b[0m\u001b[0;36m1\u001b[0m\u001b[0;34m,\u001b[0m \u001b[0;36m2\u001b[0m\u001b[0;34m,\u001b[0m \u001b[0;36m3\u001b[0m\u001b[0;34m,\u001b[0m \u001b[0;36m4\u001b[0m\u001b[0;34m,\u001b[0m \u001b[0;36m5\u001b[0m\u001b[0;34m]\u001b[0m\u001b[0;34m)\u001b[0m\u001b[0;34m\u001b[0m\u001b[0;34m\u001b[0m\u001b[0m\n\u001b[0m",
      "\u001b[0;32m<ipython-input-3-b35e2d20da8d>\u001b[0m in \u001b[0;36mstrange_operation\u001b[0;34m(iterable)\u001b[0m\n\u001b[1;32m      6\u001b[0m     \u001b[0mreturns\u001b[0m\u001b[0;34m(\u001b[0m\u001b[0mfloat\u001b[0m\u001b[0;34m)\u001b[0m\u001b[0;34m:\u001b[0m \u001b[0mpd\u001b[0m\u001b[0;34m.\u001b[0m\u001b[0mSeries\u001b[0m \u001b[0;32mwith\u001b[0m \u001b[0mstrange\u001b[0m \u001b[0moperation\u001b[0m \u001b[0mimplemented\u001b[0m\u001b[0;34m\u001b[0m\u001b[0;34m\u001b[0m\u001b[0m\n\u001b[1;32m      7\u001b[0m     \"\"\"\n\u001b[0;32m----> 8\u001b[0;31m     \u001b[0mvariance\u001b[0m \u001b[0;34m=\u001b[0m \u001b[0miterable\u001b[0m\u001b[0;34m.\u001b[0m\u001b[0mvar\u001b[0m\u001b[0;34m(\u001b[0m\u001b[0;34m)\u001b[0m\u001b[0;34m\u001b[0m\u001b[0;34m\u001b[0m\u001b[0m\n\u001b[0m\u001b[1;32m      9\u001b[0m     \u001b[0mstandard_deviation\u001b[0m \u001b[0;34m=\u001b[0m \u001b[0miterable\u001b[0m\u001b[0;34m.\u001b[0m\u001b[0mstd\u001b[0m\u001b[0;34m(\u001b[0m\u001b[0;34m)\u001b[0m\u001b[0;34m\u001b[0m\u001b[0;34m\u001b[0m\u001b[0m\n\u001b[1;32m     10\u001b[0m     \u001b[0mratio\u001b[0m \u001b[0;34m=\u001b[0m \u001b[0mvariance\u001b[0m\u001b[0;34m/\u001b[0m\u001b[0mstandard_deviation\u001b[0m\u001b[0;34m\u001b[0m\u001b[0;34m\u001b[0m\u001b[0m\n",
      "\u001b[0;31mAttributeError\u001b[0m: 'list' object has no attribute 'var'"
     ]
    }
   ],
   "source": [
    "strange_operation([1, 2, 3, 4, 5])"
   ]
  },
  {
   "cell_type": "code",
   "execution_count": 6,
   "metadata": {},
   "outputs": [],
   "source": [
    "def robust_strange_operation(iterable):\n",
    "    \"\"\"Returns ratio of Variance to Standard Deviation multiplied to every element of iterable\n",
    "\n",
    "    iterable(pandas.Series): a series of numerical values\n",
    "\n",
    "    returns(float): pd.Series with strange operation implemented\n",
    "    \"\"\"\n",
    "    try:\n",
    "        variance = iterable.var()\n",
    "        standard_deviation = iterable.std()\n",
    "    except AttributeError as ae:\n",
    "        print(\"Input not in pandas.Series format, Trying to convert: \", ae)\n",
    "        assert type(iterable) in (pd.Series,list), \"input not convertible either\"\n",
    "        iterable = pd.Series(iterable)\n",
    "        variance = iterable.var()\n",
    "        standard_deviation = iterable.std()\n",
    "    \n",
    "    finally:\n",
    "        ratio = variance/standard_deviation\n",
    "        return iterable.map(lambda x: x * ratio)\n"
   ]
  },
  {
   "cell_type": "code",
   "execution_count": 7,
   "metadata": {},
   "outputs": [
    {
     "data": {
      "text/plain": [
       "0    1.581139\n",
       "1    3.162278\n",
       "2    4.743416\n",
       "3    6.324555\n",
       "4    7.905694\n",
       "dtype: float64"
      ]
     },
     "execution_count": 7,
     "metadata": {},
     "output_type": "execute_result"
    }
   ],
   "source": [
    "robust_strange_operation(pd.Series([1, 2, 3, 4, 5]))"
   ]
  },
  {
   "cell_type": "code",
   "execution_count": 8,
   "metadata": {},
   "outputs": [
    {
     "name": "stdout",
     "output_type": "stream",
     "text": [
      "Input not in pandas.Series format, Trying to convert:  'list' object has no attribute 'var'\n"
     ]
    },
    {
     "data": {
      "text/plain": [
       "0    1.581139\n",
       "1    3.162278\n",
       "2    4.743416\n",
       "3    6.324555\n",
       "4    7.905694\n",
       "dtype: float64"
      ]
     },
     "execution_count": 8,
     "metadata": {},
     "output_type": "execute_result"
    }
   ],
   "source": [
    "robust_strange_operation([1, 2, 3, 4, 5])"
   ]
  },
  {
   "cell_type": "code",
   "execution_count": 9,
   "metadata": {},
   "outputs": [
    {
     "ename": "AttributeError",
     "evalue": "'numpy.ndarray' object has no attribute 'map'",
     "output_type": "error",
     "traceback": [
      "\u001b[0;31m---------------------------------------------------------------------------\u001b[0m",
      "\u001b[0;31mAttributeError\u001b[0m                            Traceback (most recent call last)",
      "\u001b[0;32m<ipython-input-9-8844e651a5af>\u001b[0m in \u001b[0;36m<module>\u001b[0;34m\u001b[0m\n\u001b[0;32m----> 1\u001b[0;31m \u001b[0mrobust_strange_operation\u001b[0m\u001b[0;34m(\u001b[0m\u001b[0mnp\u001b[0m\u001b[0;34m.\u001b[0m\u001b[0marray\u001b[0m\u001b[0;34m(\u001b[0m\u001b[0;34m[\u001b[0m\u001b[0;36m1\u001b[0m\u001b[0;34m,\u001b[0m \u001b[0;36m2\u001b[0m\u001b[0;34m,\u001b[0m \u001b[0;36m3\u001b[0m\u001b[0;34m,\u001b[0m \u001b[0;36m4\u001b[0m\u001b[0;34m,\u001b[0m \u001b[0;36m5\u001b[0m\u001b[0;34m]\u001b[0m\u001b[0;34m)\u001b[0m\u001b[0;34m)\u001b[0m\u001b[0;34m\u001b[0m\u001b[0;34m\u001b[0m\u001b[0m\n\u001b[0m",
      "\u001b[0;32m<ipython-input-6-a46c91be82de>\u001b[0m in \u001b[0;36mrobust_strange_operation\u001b[0;34m(iterable)\u001b[0m\n\u001b[1;32m     18\u001b[0m     \u001b[0;32mfinally\u001b[0m\u001b[0;34m:\u001b[0m\u001b[0;34m\u001b[0m\u001b[0;34m\u001b[0m\u001b[0m\n\u001b[1;32m     19\u001b[0m         \u001b[0mratio\u001b[0m \u001b[0;34m=\u001b[0m \u001b[0mvariance\u001b[0m\u001b[0;34m/\u001b[0m\u001b[0mstandard_deviation\u001b[0m\u001b[0;34m\u001b[0m\u001b[0;34m\u001b[0m\u001b[0m\n\u001b[0;32m---> 20\u001b[0;31m         \u001b[0;32mreturn\u001b[0m \u001b[0miterable\u001b[0m\u001b[0;34m.\u001b[0m\u001b[0mmap\u001b[0m\u001b[0;34m(\u001b[0m\u001b[0;32mlambda\u001b[0m \u001b[0mx\u001b[0m\u001b[0;34m:\u001b[0m \u001b[0mx\u001b[0m \u001b[0;34m*\u001b[0m \u001b[0mratio\u001b[0m\u001b[0;34m)\u001b[0m\u001b[0;34m\u001b[0m\u001b[0;34m\u001b[0m\u001b[0m\n\u001b[0m",
      "\u001b[0;31mAttributeError\u001b[0m: 'numpy.ndarray' object has no attribute 'map'"
     ]
    }
   ],
   "source": [
    "robust_strange_operation(np.array([1, 2, 3, 4, 5]))"
   ]
  },
  {
   "cell_type": "markdown",
   "metadata": {},
   "source": [
    "* Note that np.array is still not operable with this function. Try and resolve it on your own using exception handling."
   ]
  }
 ],
 "metadata": {
  "kernelspec": {
   "display_name": "Python 3",
   "language": "python",
   "name": "python3"
  },
  "language_info": {
   "codemirror_mode": {
    "name": "ipython",
    "version": 3
   },
   "file_extension": ".py",
   "mimetype": "text/x-python",
   "name": "python",
   "nbconvert_exporter": "python",
   "pygments_lexer": "ipython3",
   "version": "3.7.4"
  }
 },
 "nbformat": 4,
 "nbformat_minor": 5
}
