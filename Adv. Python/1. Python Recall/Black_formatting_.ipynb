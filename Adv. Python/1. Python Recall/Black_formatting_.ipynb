{
 "cells": [
  {
   "cell_type": "code",
   "execution_count": 1,
   "metadata": {
    "id": "ordinary-objective"
   },
   "outputs": [
    {
     "name": "stdout",
     "output_type": "stream",
     "text": [
      "Collecting nb_black\n",
      "  Using cached https://files.pythonhosted.org/packages/a9/86/195e7b1bcafe86c2f5deb3efcbdc6ab35f7269fc4b0095b94321de2215a2/nb_black-1.0.7.tar.gz\n",
      "Requirement already satisfied: ipython in /home/aishwarya/anaconda3/lib/python3.6/site-packages (from nb_black) (6.1.0)\n",
      "Collecting black>='19.3' (from nb_black)\n",
      "  Using cached https://files.pythonhosted.org/packages/dc/7b/5a6bbe89de849f28d7c109f5ea87b65afa5124ad615f3419e71beb29dc96/black-20.8b1.tar.gz\n",
      "  Installing build dependencies ... \u001b[?25ldone\n",
      "\u001b[?25h  Getting requirements to build wheel ... \u001b[?25ldone\n",
      "\u001b[?25h    Preparing wheel metadata ... \u001b[?25ldone\n",
      "\u001b[33m  WARNING: Requested black>='19.3' from https://files.pythonhosted.org/packages/dc/7b/5a6bbe89de849f28d7c109f5ea87b65afa5124ad615f3419e71beb29dc96/black-20.8b1.tar.gz#sha256=1c02557aa099101b9d21496f8a914e9ed2222ef70336404eeeac8edba836fbea (from nb_black), but installing version 20.8b1\u001b[0m\n",
      "\u001b[?25hRequirement already satisfied: setuptools>=18.5 in /home/aishwarya/anaconda3/lib/python3.6/site-packages (from ipython->nb_black) (41.6.0)\n",
      "Requirement already satisfied: jedi>=0.10 in /home/aishwarya/anaconda3/lib/python3.6/site-packages (from ipython->nb_black) (0.15.1)\n",
      "Requirement already satisfied: decorator in /home/aishwarya/anaconda3/lib/python3.6/site-packages (from ipython->nb_black) (4.4.1)\n",
      "Requirement already satisfied: pickleshare in /home/aishwarya/anaconda3/lib/python3.6/site-packages (from ipython->nb_black) (0.7.5)\n",
      "Requirement already satisfied: simplegeneric>0.8 in /home/aishwarya/anaconda3/lib/python3.6/site-packages (from ipython->nb_black) (0.8.1)\n",
      "Requirement already satisfied: traitlets>=4.2 in /home/aishwarya/anaconda3/lib/python3.6/site-packages (from ipython->nb_black) (4.3.2)\n",
      "Collecting prompt_toolkit<2.0.0,>=1.0.4 (from ipython->nb_black)\n",
      "  Using cached https://files.pythonhosted.org/packages/64/27/5fd61a451d086ad4aa806dc72fe1383d2bc0e74323668672287f616d5d51/prompt_toolkit-1.0.18-py3-none-any.whl\n",
      "Requirement already satisfied: pygments in /home/aishwarya/anaconda3/lib/python3.6/site-packages (from ipython->nb_black) (2.4.2)\n",
      "Requirement already satisfied: pexpect in /home/aishwarya/anaconda3/lib/python3.6/site-packages (from ipython->nb_black) (4.2.1)\n",
      "Collecting regex>=2020.1.8 (from black>='19.3'->nb_black)\n",
      "\u001b[?25l  Downloading https://files.pythonhosted.org/packages/35/9e/547f04299ce40e2646f7d6d2b0fc98019d70f762dedcf65940a72dc4dc2c/regex-2021.3.17-cp36-cp36m-manylinux2010_x86_64.whl (666kB)\n",
      "\u001b[K     |████████████████████████████████| 675kB 167kB/s eta 0:00:01\n",
      "\u001b[?25hCollecting click>=7.1.2 (from black>='19.3'->nb_black)\n",
      "  Using cached https://files.pythonhosted.org/packages/d2/3d/fa76db83bf75c4f8d338c2fd15c8d33fdd7ad23a9b5e57eb6c5de26b430e/click-7.1.2-py2.py3-none-any.whl\n",
      "Collecting pathspec<1,>=0.6 (from black>='19.3'->nb_black)\n",
      "  Using cached https://files.pythonhosted.org/packages/29/29/a465741a3d97ea3c17d21eaad4c64205428bde56742360876c4391f930d4/pathspec-0.8.1-py2.py3-none-any.whl\n",
      "Collecting dataclasses>=0.6; python_version < \"3.7\" (from black>='19.3'->nb_black)\n",
      "  Downloading https://files.pythonhosted.org/packages/fe/ca/75fac5856ab5cfa51bbbcefa250182e50441074fdc3f803f6e76451fab43/dataclasses-0.8-py3-none-any.whl\n",
      "Collecting typed-ast>=1.4.0 (from black>='19.3'->nb_black)\n",
      "\u001b[?25l  Downloading https://files.pythonhosted.org/packages/56/c1/4cc3c0da2374963f59b2f57ef02e048cdc4f609cbc1184b4146d0812e5b5/typed_ast-1.4.2-cp36-cp36m-manylinux1_x86_64.whl (743kB)\n",
      "\u001b[K     |████████████████████████████████| 747kB 615kB/s eta 0:00:01\n",
      "\u001b[?25hCollecting appdirs (from black>='19.3'->nb_black)\n",
      "  Using cached https://files.pythonhosted.org/packages/3b/00/2344469e2084fb287c2e0b57b72910309874c3245463acd6cf5e3db69324/appdirs-1.4.4-py2.py3-none-any.whl\n",
      "Requirement already satisfied: typing-extensions>=3.7.4 in /home/aishwarya/anaconda3/lib/python3.6/site-packages (from black>='19.3'->nb_black) (3.7.4.1)\n",
      "Collecting mypy-extensions>=0.4.3 (from black>='19.3'->nb_black)\n",
      "  Using cached https://files.pythonhosted.org/packages/5c/eb/975c7c080f3223a5cdaff09612f3a5221e4ba534f7039db34c35d95fa6a5/mypy_extensions-0.4.3-py2.py3-none-any.whl\n",
      "Collecting toml>=0.10.1 (from black>='19.3'->nb_black)\n",
      "  Using cached https://files.pythonhosted.org/packages/44/6f/7120676b6d73228c96e17f1f794d8ab046fc910d781c8d151120c3f1569e/toml-0.10.2-py2.py3-none-any.whl\n",
      "Requirement already satisfied: parso>=0.5.0 in /home/aishwarya/anaconda3/lib/python3.6/site-packages (from jedi>=0.10->ipython->nb_black) (0.5.1)\n",
      "Requirement already satisfied: ipython_genutils in /home/aishwarya/anaconda3/lib/python3.6/site-packages (from traitlets>=4.2->ipython->nb_black) (0.2.0)\n",
      "Requirement already satisfied: six in /home/aishwarya/anaconda3/lib/python3.6/site-packages (from traitlets>=4.2->ipython->nb_black) (1.13.0)\n",
      "Requirement already satisfied: wcwidth in /home/aishwarya/anaconda3/lib/python3.6/site-packages (from prompt_toolkit<2.0.0,>=1.0.4->ipython->nb_black) (0.1.7)\n",
      "Building wheels for collected packages: black\n",
      "  Building wheel for black (PEP 517) ... \u001b[?25ldone\n",
      "\u001b[?25h  Stored in directory: /home/aishwarya/.cache/pip/wheels/6e/10/b5/edf7359c2edd0305cce7e3f96e07daf7ce55dceac9d3ce3373\n",
      "Successfully built black\n",
      "Building wheels for collected packages: nb-black\n",
      "  Building wheel for nb-black (setup.py) ... \u001b[?25ldone\n",
      "\u001b[?25h  Stored in directory: /home/aishwarya/.cache/pip/wheels/35/6d/99/856a3401e3a2153f51223f1be990e4b30f80f9e4bd1604ae9b\n",
      "Successfully built nb-black\n",
      "\u001b[31mERROR: fastai 0.7.0 requires ipywidgets, which is not installed.\u001b[0m\n",
      "\u001b[31mERROR: fastai 0.7.0 requires widgetsnbextension, which is not installed.\u001b[0m\n",
      "\u001b[31mERROR: spacy 2.0.11 has requirement dill<0.3,>=0.2, but you'll have dill 0.3.1.1 which is incompatible.\u001b[0m\n",
      "\u001b[31mERROR: spacy 2.0.11 has requirement regex==2017.4.5, but you'll have regex 2021.3.17 which is incompatible.\u001b[0m\n",
      "\u001b[31mERROR: questionary 1.4.0 has requirement prompt-toolkit~=2.0, but you'll have prompt-toolkit 1.0.18 which is incompatible.\u001b[0m\n",
      "Installing collected packages: regex, click, pathspec, dataclasses, typed-ast, appdirs, mypy-extensions, toml, black, nb-black, prompt-toolkit\n",
      "  Found existing installation: regex 2017.4.5\n",
      "    Uninstalling regex-2017.4.5:\n",
      "      Successfully uninstalled regex-2017.4.5\n",
      "  Found existing installation: Click 7.0\n",
      "    Uninstalling Click-7.0:\n",
      "      Successfully uninstalled Click-7.0\n",
      "  Found existing installation: prompt-toolkit 2.0.10\n",
      "    Uninstalling prompt-toolkit-2.0.10:\n",
      "      Successfully uninstalled prompt-toolkit-2.0.10\n",
      "Successfully installed appdirs-1.4.4 black-20.8b1 click-7.1.2 dataclasses-0.8 mypy-extensions-0.4.3 nb-black-1.0.7 pathspec-0.8.1 prompt-toolkit-1.0.18 regex-2021.3.17 toml-0.10.2 typed-ast-1.4.2\n"
     ]
    }
   ],
   "source": [
    "!pip3 install nb_black"
   ]
  },
  {
   "cell_type": "code",
   "execution_count": 2,
   "metadata": {
    "id": "demanding-display"
   },
   "outputs": [],
   "source": [
    "# if using jupyter Lab\n",
    "%load_ext lab_black\n",
    "\n",
    "# if using jupyter Notebook\n",
    "# %load_ext nb_black"
   ]
  },
  {
   "cell_type": "code",
   "execution_count": 3,
   "metadata": {
    "id": "adequate-threat"
   },
   "outputs": [],
   "source": [
    "def num_gaussian_outliers(data, n):\n",
    "    # number of outliers below/above n*std from the mean\n",
    "    low = len(data[data < (data.mean() - (n * data.std()))])\n",
    "    high = len(data[data > (data.mean() + (n * data.std()))])\n",
    "    total = low + high\n",
    "    return low, high, total"
   ]
  },
  {
   "cell_type": "code",
   "execution_count": null,
   "metadata": {
    "collapsed": true,
    "id": "moved-skill",
    "jupyter": {
     "outputs_hidden": true
    }
   },
   "outputs": [],
   "source": [
    "def num_whisker_outliers(data):\n",
    "    M_FACTOR = 1.5\n",
    "    QUART1 = 0.25\n",
    "    QUART3 = 0.75\n",
    "    IQR = data.quantile(QUART3)-data.quantile(QUART1)\n",
    "    # number of outliers below/above whiskers;(median - 1.5*IQR) and (median + 1.5*IQR)\n",
    "    low = len(data[data<data.quantile(QUART1)-(M_FACTOR*(IQR))])\n",
    "    high = len(data[data>data.quantile(QUART3)+(M_FACTOR*(IQR))])\n",
    "    total = low+high\n",
    "    return low,high,total"
   ]
  },
  {
   "cell_type": "code",
   "execution_count": null,
   "metadata": {
    "collapsed": true,
    "id": "recognized-plymouth",
    "jupyter": {
     "outputs_hidden": true
    },
    "outputId": "771352c5-bb76-4576-994f-31cd7c7693e2",
    "tags": []
   },
   "outputs": [
    {
     "ename": "SyntaxError",
     "evalue": "invalid syntax (<ipython-input-5-f771bc068b60>, line 1)",
     "output_type": "error",
     "traceback": [
      "\u001b[0;36m  File \u001b[0;32m\"<ipython-input-5-f771bc068b60>\"\u001b[0;36m, line \u001b[0;32m1\u001b[0m\n\u001b[0;31m    def num_outliers(data, gaussian=True n=3):\u001b[0m\n\u001b[0m                                         ^\u001b[0m\n\u001b[0;31mSyntaxError\u001b[0m\u001b[0;31m:\u001b[0m invalid syntax\n"
     ]
    },
    {
     "name": "stderr",
     "output_type": "stream",
     "text": [
      "ERROR:root:Cannot parse: 1:37: def num_outliers(data, gaussian=True n=3):\n",
      "Traceback (most recent call last):\n",
      "  File \"/home/sharoon/.local/lib/python3.8/site-packages/lab_black.py\", line 218, in format_cell\n",
      "    formatted_code = _format_code(cell)\n",
      "  File \"/home/sharoon/.local/lib/python3.8/site-packages/lab_black.py\", line 29, in _format_code\n",
      "    return format_str(src_contents=code, mode=FileMode())\n",
      "  File \"/home/sharoon/.local/lib/python3.8/site-packages/black/__init__.py\", line 974, in format_str\n",
      "    src_node = lib2to3_parse(src_contents.lstrip(), mode.target_versions)\n",
      "  File \"/home/sharoon/.local/lib/python3.8/site-packages/black/__init__.py\", line 1083, in lib2to3_parse\n",
      "    raise exc from None\n",
      "black.InvalidInput: Cannot parse: 1:37: def num_outliers(data, gaussian=True n=3):\n"
     ]
    }
   ],
   "source": [
    "def num_outliers(data, gaussian=True, n=3):\n",
    "    return num_gaussian_outliers(data, n) if gaussian else num_whisker_outliers(data)"
   ]
  },
  {
   "cell_type": "code",
   "execution_count": null,
   "metadata": {
    "collapsed": true,
    "id": "civil-kitchen",
    "jupyter": {
     "outputs_hidden": true
    }
   },
   "outputs": [],
   "source": []
  }
 ],
 "metadata": {
  "colab": {
   "name": "Black formatting .ipynb",
   "provenance": []
  },
  "kernelspec": {
   "display_name": "Python 3",
   "language": "python",
   "name": "python3"
  },
  "language_info": {
   "codemirror_mode": {
    "name": "ipython",
    "version": 3
   },
   "file_extension": ".py",
   "mimetype": "text/x-python",
   "name": "python",
   "nbconvert_exporter": "python",
   "pygments_lexer": "ipython3",
   "version": "3.7.4"
  }
 },
 "nbformat": 4,
 "nbformat_minor": 5
}
